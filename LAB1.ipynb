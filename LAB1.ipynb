{
 "cells": [
  {
   "cell_type": "markdown",
   "metadata": {},
   "source": [
    "# LAB 1\n",
    "## Load Data and visualize\n",
    "In this Lab you will load measurements from a text file<br>\n",
    "We could do it by hands but we will use the library pandas. It is a powerful tool for timeseries processing but it is however not efficient for real-time application. <br>\n",
    "First let's import required libraries."
   ]
  },
  {
   "cell_type": "code",
   "execution_count": null,
   "metadata": {},
   "outputs": [],
   "source": [
    "import os, sys\n",
    "import pandas\n",
    "import numpy as np\n",
    "from datetime import datetime, timedelta\n",
    "import pytz\n",
    "import matplotlib.pyplot as plt"
   ]
  },
  {
   "cell_type": "markdown",
   "metadata": {},
   "source": [
    "## Read a measurement csv file\n",
    "\n",
    "### old school way\n",
    "open file <br>\n",
    "parse file\n",
    "\n",
    "### pandas\n",
    "A csv file can be read directly using pandas. Dates can be parsed directly when the format is standard. https://pandas.pydata.org/pandas-docs/stable/reference/api/pandas.read_csv.html <br>\n",
    "In our case, hour is given as decimal which is not a supported standard. It required then to do it separately."
   ]
  },
  {
   "cell_type": "code",
   "execution_count": null,
   "metadata": {},
   "outputs": [],
   "source": [
    "Data=pandas.read_csv('DATA/BSRN_PAY_1MIN_2005.csv',delimiter=';',comment='#',header=None,names=['Year','Month','Day','UT','GHI','DHI','BNI','T2','RH'])"
   ]
  },
  {
   "cell_type": "markdown",
   "metadata": {},
   "source": [
    "Visualise the first rows of the results with the head command"
   ]
  },
  {
   "cell_type": "code",
   "execution_count": null,
   "metadata": {},
   "outputs": [],
   "source": [
    "Data[0:10]"
   ]
  },
  {
   "cell_type": "markdown",
   "metadata": {},
   "source": [
    "As said previously the time is not in a standard format the following lines convert UT time to Hour Minute"
   ]
  },
  {
   "cell_type": "code",
   "execution_count": null,
   "metadata": {},
   "outputs": [],
   "source": [
    "#Data['Hour']=Data['UT'].astype(int)\n",
    "#convert UT time to hour minute second and insert it in the dataframe at a given position\n",
    "Data.insert(3,'Hour',Data['UT'].astype(int))\n",
    "Data.insert(4,'Minutes',np.round((Data['UT']*60) % 60).astype(int))\n",
    "#remove 'UT' from dataframe\n",
    "Data.drop(columns='UT',inplace=True)"
   ]
  },
  {
   "cell_type": "markdown",
   "metadata": {},
   "source": [
    "Check the results using head command once again"
   ]
  },
  {
   "cell_type": "code",
   "execution_count": null,
   "metadata": {},
   "outputs": [],
   "source": [
    "Data.head()"
   ]
  },
  {
   "cell_type": "markdown",
   "metadata": {},
   "source": [
    "Now that it is standard, it can be converted to datetime format.<br>\n",
    "Use the pandas to_datetime command: https://pandas.pydata.org/pandas-docs/stable/reference/api/pandas.to_datetime.html"
   ]
  },
  {
   "cell_type": "code",
   "execution_count": null,
   "metadata": {},
   "outputs": [],
   "source": [
    "Data['Datetime']=pandas.to_datetime(Data[['Year','Month','Day','Hour','Minutes']],utc=True)"
   ]
  },
  {
   "cell_type": "markdown",
   "metadata": {},
   "source": [
    "Check the regularity of the time stamps <br>\n",
    "Mean should be 1 min"
   ]
  },
  {
   "cell_type": "code",
   "execution_count": null,
   "metadata": {},
   "outputs": [],
   "source": [
    "np.mean(Data['Datetime'].diff())"
   ]
  },
  {
   "cell_type": "markdown",
   "metadata": {},
   "source": [
    "The standard deviation should be close to 0"
   ]
  },
  {
   "cell_type": "code",
   "execution_count": null,
   "metadata": {},
   "outputs": [],
   "source": [
    "np.std(Data['Datetime'].diff())"
   ]
  },
  {
   "cell_type": "markdown",
   "metadata": {},
   "source": [
    "Set datetime as index: https://pandas.pydata.org/pandas-docs/stable/reference/api/pandas.DataFrame.set_index.html"
   ]
  },
  {
   "cell_type": "code",
   "execution_count": null,
   "metadata": {},
   "outputs": [],
   "source": [
    "Data.set_index('Datetime',drop=True,inplace=True)"
   ]
  },
  {
   "cell_type": "markdown",
   "metadata": {},
   "source": [
    "Create a 1-min date vector starting at 20050101T00:01:00Z and ending at 20051231T24:00 <br>\n",
    "https://pandas.pydata.org/pandas-docs/stable/reference/api/pandas.date_range.html"
   ]
  },
  {
   "cell_type": "code",
   "execution_count": null,
   "metadata": {},
   "outputs": [],
   "source": [
    "tzinfo=pytz.timezone('utc')\n",
    "date_begin=datetime(2005,1,1,0,tzinfo=tzinfo)\n",
    "date_end=datetime(2005,12,31,0,0,tzinfo=tzinfo)\n",
    "complete_index=pandas.date_range(date_begin+timedelta(minutes=1),date_end+timedelta(days=1),freq='min',tz='utc')"
   ]
  },
  {
   "cell_type": "markdown",
   "metadata": {},
   "source": [
    "Use the reindex command to use the previous vector as an index:https://pandas.pydata.org/pandas-docs/stable/reference/api/pandas.DataFrame.reindex.html"
   ]
  },
  {
   "cell_type": "code",
   "execution_count": null,
   "metadata": {},
   "outputs": [],
   "source": [
    "Data.reindex(complete_index)"
   ]
  },
  {
   "cell_type": "markdown",
   "metadata": {},
   "source": [
    "Replace all the missing values (-999) by numpy not a number value (pandas replace command)"
   ]
  },
  {
   "cell_type": "code",
   "execution_count": null,
   "metadata": {},
   "outputs": [],
   "source": [
    "Data=Data.replace(-999,np.nan)"
   ]
  },
  {
   "cell_type": "markdown",
   "metadata": {},
   "source": [
    "Check if data were missing in the initial dataset. Output date where data is missing"
   ]
  },
  {
   "cell_type": "code",
   "execution_count": null,
   "metadata": {},
   "outputs": [],
   "source": [
    "Data.index[Data.isnull().any(axis=1)]"
   ]
  },
  {
   "cell_type": "markdown",
   "metadata": {},
   "source": [
    "Plot values. In Jupyter there is a shortcut for importing all you need: %pylab inline <br>\n",
    "But be careful it replaces all the import you made before. We will not do it here since we import all libraries in the first cell.<br>\n",
    "In pandas you can run directly plot on the desired column."
   ]
  },
  {
   "cell_type": "code",
   "execution_count": null,
   "metadata": {},
   "outputs": [],
   "source": [
    "Data['GHI'].plot(title='1-min GHI - 2005')\n",
    "plt.ylabel(r'W.$m^{-2}$')\n",
    "plt.xlabel('Date')"
   ]
  },
  {
   "cell_type": "markdown",
   "metadata": {},
   "source": [
    "Do the same but for a restricted date range (10 days during 2005)."
   ]
  },
  {
   "cell_type": "code",
   "execution_count": null,
   "metadata": {},
   "outputs": [],
   "source": [
    "Data['GHI'].loc[(Data.index >datetime(2005,7,1,tzinfo=tzinfo)) & (Data.index <= datetime(2005,7,10,tzinfo=tzinfo))].plot(title='1-min GHI - 2005 - 10 days in summer')\n",
    "plt.ylabel(r'W.$m^{-2}$')\n",
    "plt.xlabel('Date')"
   ]
  },
  {
   "cell_type": "markdown",
   "metadata": {},
   "source": [
    "Plot data on a 2D plot minutes against day.<br>\n",
    "Use the imshow command. You need to reshape the data in the right dimensions which means to know the number of days in 2005 and the number of minutes a day. At the end add a colorbar."
   ]
  },
  {
   "cell_type": "code",
   "execution_count": null,
   "metadata": {
    "scrolled": true
   },
   "outputs": [],
   "source": [
    "days=pandas.date_range(date_begin,date_end,freq='D')\n",
    "nb_days=len(days)\n",
    "nb_min=1440\n",
    "GHI=np.reshape(Data.GHI.values,(nb_days,nb_min))\n",
    "plt.figure(figsize=(15,5))\n",
    "plt.imshow(np.transpose(GHI),aspect=.1)\n",
    "plt.colorbar(fraction=0.046, pad=0.04)"
   ]
  },
  {
   "cell_type": "markdown",
   "metadata": {},
   "source": [
    "Do the same on all interesting columns of the data ['GHI', 'DHI', 'BNI', 'T2', 'RH'] using a loop and subplot command."
   ]
  },
  {
   "cell_type": "code",
   "execution_count": null,
   "metadata": {
    "scrolled": true
   },
   "outputs": [],
   "source": [
    "plt.figure(figsize=(15,10))\n",
    "for i,k in enumerate():\n",
    "    plt.subplot(3,2,i+1)\n",
    "    dat=np.reshape(Data[k].values,(nb_days,nb_min))\n",
    "    plt.imshow(np.transpose(dat),aspect=.1)\n",
    "    plt.colorbar(fraction=0.046, pad=0.04)\n",
    "    plt.title(k)"
   ]
  }
 ],
 "metadata": {
  "kernelspec": {
   "display_name": "Python 3",
   "language": "python",
   "name": "python3"
  },
  "language_info": {
   "codemirror_mode": {
    "name": "ipython",
    "version": 3
   },
   "file_extension": ".py",
   "mimetype": "text/x-python",
   "name": "python",
   "nbconvert_exporter": "python",
   "pygments_lexer": "ipython3",
   "version": "3.7.4"
  },
  "toc": {
   "base_numbering": 1,
   "nav_menu": {},
   "number_sections": true,
   "sideBar": true,
   "skip_h1_title": false,
   "title_cell": "Table of Contents",
   "title_sidebar": "Contents",
   "toc_cell": false,
   "toc_position": {},
   "toc_section_display": true,
   "toc_window_display": false
  }
 },
 "nbformat": 4,
 "nbformat_minor": 4
}
